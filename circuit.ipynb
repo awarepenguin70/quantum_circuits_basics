{
 "cells": [
  {
   "metadata": {},
   "cell_type": "markdown",
   "source": "",
   "id": "8a77807f92f26ee"
  },
  {
   "metadata": {
    "ExecuteTime": {
     "end_time": "2025-05-20T11:28:28.146281Z",
     "start_time": "2025-05-20T11:28:27.100030Z"
    }
   },
   "cell_type": "code",
   "source": "from qiskit import *",
   "id": "fbc121e30a2defb3",
   "outputs": [],
   "execution_count": 1
  },
  {
   "metadata": {
    "ExecuteTime": {
     "end_time": "2025-05-20T11:28:28.164412Z",
     "start_time": "2025-05-20T11:28:28.158511Z"
    }
   },
   "cell_type": "code",
   "source": "circuit = QuantumCircuit(2,2)",
   "id": "14bb24a669c091a4",
   "outputs": [],
   "execution_count": 2
  },
  {
   "metadata": {
    "ExecuteTime": {
     "end_time": "2025-05-20T11:28:28.333133Z",
     "start_time": "2025-05-20T11:28:28.172353Z"
    }
   },
   "cell_type": "code",
   "source": "circuit.draw()",
   "id": "641b7a34640b6621",
   "outputs": [
    {
     "data": {
      "text/plain": [
       "     \n",
       "q_0: \n",
       "     \n",
       "q_1: \n",
       "     \n",
       "c: 2/\n",
       "     "
      ],
      "text/html": [
       "<pre style=\"word-wrap: normal;white-space: pre;background: #fff0;line-height: 1.1;font-family: &quot;Courier New&quot;,Courier,monospace\">     \n",
       "q_0: \n",
       "     \n",
       "q_1: \n",
       "     \n",
       "c: 2/\n",
       "     </pre>"
      ]
     },
     "execution_count": 3,
     "metadata": {},
     "output_type": "execute_result"
    }
   ],
   "execution_count": 3
  },
  {
   "metadata": {
    "ExecuteTime": {
     "end_time": "2025-05-20T11:28:30.244610Z",
     "start_time": "2025-05-20T11:28:29.600381Z"
    }
   },
   "cell_type": "code",
   "source": "%matplotlib inline",
   "id": "88924395f661275d",
   "outputs": [],
   "execution_count": 4
  },
  {
   "metadata": {
    "ExecuteTime": {
     "end_time": "2025-05-20T11:28:30.535660Z",
     "start_time": "2025-05-20T11:28:30.256449Z"
    }
   },
   "cell_type": "code",
   "source": "circuit.draw(output='mpl');\n",
   "id": "93c24dccc7460bb",
   "outputs": [
    {
     "data": {
      "text/plain": [
       "<Figure size 161.878x284.278 with 1 Axes>"
      ],
      "image/png": "[encoded data removed]"
     },
     "metadata": {},
     "output_type": "display_data"
    }
   ],
   "execution_count": 5
  },
  {
   "metadata": {
    "ExecuteTime": {
     "end_time": "2025-05-20T11:28:30.593276Z",
     "start_time": "2025-05-20T11:28:30.546898Z"
    }
   },
   "cell_type": "code",
   "source": [
    "circuit.h(0)\n",
    "circuit.draw(output='mpl');"
   ],
   "id": "8f45c2a8ecb309b5",
   "outputs": [
    {
     "data": {
      "text/plain": [
       "<Figure size 203.683x284.278 with 1 Axes>"
      ],
      "image/png": "[encoded data removed]"
     },
     "metadata": {},
     "output_type": "display_data"
    }
   ],
   "execution_count": 6
  },
  {
   "metadata": {
    "ExecuteTime": {
     "end_time": "2025-05-20T11:28:30.691869Z",
     "start_time": "2025-05-20T11:28:30.614408Z"
    }
   },
   "cell_type": "code",
   "source": [
    "circuit.cx(0,1)\n",
    "circuit.measure([0,1],[0,1])\n",
    "circuit.draw(output='mpl');"
   ],
   "id": "cb5255f2ef723205",
   "outputs": [
    {
     "data": {
      "text/plain": [
       "<Figure size 454.517x284.278 with 1 Axes>"
      ],
      "image/png": "[encoded data removed]"
     },
     "metadata": {},
     "output_type": "display_data"
    }
   ],
   "execution_count": 7
  },
  {
   "metadata": {},
   "cell_type": "code",
   "outputs": [],
   "execution_count": null,
   "source": "simulator = Aer.get_backend('qasm_simulator')",
   "id": "c026e746c6dd3951"
  },
  {
   "metadata": {},
   "cell_type": "code",
   "outputs": [],
   "execution_count": null,
   "source": "result = execute(circuit, backend=simulator).result()",
   "id": "df12efec05dc0342"
  },
  {
   "metadata": {},
   "cell_type": "code",
   "outputs": [],
   "execution_count": null,
   "source": "print(result.get_counts())",
   "id": "e857e305ea1eb4fc"
  }
 ],
 "metadata": {
  "kernelspec": {
   "display_name": "Python 3",
   "language": "python",
   "name": "python3"
  },
  "language_info": {
   "codemirror_mode": {
    "name": "ipython",
    "version": 2
   },
   "file_extension": ".py",
   "mimetype": "text/x-python",
   "name": "python",
   "nbconvert_exporter": "python",
   "pygments_lexer": "ipython2",
   "version": "2.7.6"
  }
 },
 "nbformat": 4,
 "nbformat_minor": 5
}
